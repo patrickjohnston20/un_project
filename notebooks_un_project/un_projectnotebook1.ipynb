{
 "cells": [
  {
   "cell_type": "code",
   "execution_count": 1,
   "id": "503e8c6b",
   "metadata": {},
   "outputs": [],
   "source": [
    "import pandas as pd\n",
    "import numpy as np\n",
    "import matplotlib.pyplot as plt\n",
    "import seaborn as sns"
   ]
  },
  {
   "cell_type": "code",
   "execution_count": 2,
   "id": "b7ef5324",
   "metadata": {},
   "outputs": [
    {
     "data": {
      "text/html": [
       "<div>\n",
       "<style scoped>\n",
       "    .dataframe tbody tr th:only-of-type {\n",
       "        vertical-align: middle;\n",
       "    }\n",
       "\n",
       "    .dataframe tbody tr th {\n",
       "        vertical-align: top;\n",
       "    }\n",
       "\n",
       "    .dataframe thead th {\n",
       "        text-align: right;\n",
       "    }\n",
       "</style>\n",
       "<table border=\"1\" class=\"dataframe\">\n",
       "  <thead>\n",
       "    <tr style=\"text-align: right;\">\n",
       "      <th></th>\n",
       "      <th>Country or Area</th>\n",
       "      <th>Year</th>\n",
       "      <th>Value</th>\n",
       "      <th>Value Footnotes</th>\n",
       "    </tr>\n",
       "  </thead>\n",
       "  <tbody>\n",
       "    <tr>\n",
       "      <th>0</th>\n",
       "      <td>Afghanistan</td>\n",
       "      <td>2020</td>\n",
       "      <td>1970.560169</td>\n",
       "      <td>NaN</td>\n",
       "    </tr>\n",
       "    <tr>\n",
       "      <th>1</th>\n",
       "      <td>Afghanistan</td>\n",
       "      <td>2019</td>\n",
       "      <td>2065.036235</td>\n",
       "      <td>NaN</td>\n",
       "    </tr>\n",
       "    <tr>\n",
       "      <th>2</th>\n",
       "      <td>Afghanistan</td>\n",
       "      <td>2018</td>\n",
       "      <td>2033.804389</td>\n",
       "      <td>NaN</td>\n",
       "    </tr>\n",
       "    <tr>\n",
       "      <th>3</th>\n",
       "      <td>Afghanistan</td>\n",
       "      <td>2017</td>\n",
       "      <td>2058.400221</td>\n",
       "      <td>NaN</td>\n",
       "    </tr>\n",
       "    <tr>\n",
       "      <th>4</th>\n",
       "      <td>Afghanistan</td>\n",
       "      <td>2016</td>\n",
       "      <td>2057.067978</td>\n",
       "      <td>NaN</td>\n",
       "    </tr>\n",
       "  </tbody>\n",
       "</table>\n",
       "</div>"
      ],
      "text/plain": [
       "  Country or Area  Year        Value  Value Footnotes\n",
       "0     Afghanistan  2020  1970.560169              NaN\n",
       "1     Afghanistan  2019  2065.036235              NaN\n",
       "2     Afghanistan  2018  2033.804389              NaN\n",
       "3     Afghanistan  2017  2058.400221              NaN\n",
       "4     Afghanistan  2016  2057.067978              NaN"
      ]
     },
     "execution_count": 2,
     "metadata": {},
     "output_type": "execute_result"
    }
   ],
   "source": [
    "gdp_df = pd.read_csv('../data/gdp_percapita.csv')\n",
    "gdp_df.head()"
   ]
  },
  {
   "cell_type": "code",
   "execution_count": 3,
   "id": "b84ff271",
   "metadata": {},
   "outputs": [
    {
     "data": {
      "text/plain": [
       "(7176, 4)"
      ]
     },
     "execution_count": 3,
     "metadata": {},
     "output_type": "execute_result"
    }
   ],
   "source": [
    "gdp_df.shape"
   ]
  },
  {
   "cell_type": "markdown",
   "id": "eaa94bb9",
   "metadata": {},
   "source": [
    "### 5a)     7176, 4\n"
   ]
  },
  {
   "cell_type": "code",
   "execution_count": 4,
   "id": "f7e6704d",
   "metadata": {
    "scrolled": false
   },
   "outputs": [
    {
     "data": {
      "text/plain": [
       "Series([], dtype: int64)"
      ]
     },
     "execution_count": 4,
     "metadata": {},
     "output_type": "execute_result"
    }
   ],
   "source": [
    "gdp_df.value_counts()"
   ]
  },
  {
   "cell_type": "markdown",
   "id": "991c86e1",
   "metadata": {},
   "source": [
    "### 5B) object"
   ]
  },
  {
   "cell_type": "code",
   "execution_count": 5,
   "id": "306b6440",
   "metadata": {},
   "outputs": [
    {
     "data": {
      "text/plain": [
       "Index(['Country or Area', 'Year', 'Value', 'Value Footnotes'], dtype='object')"
      ]
     },
     "execution_count": 5,
     "metadata": {},
     "output_type": "execute_result"
    }
   ],
   "source": [
    "gdp_df.columns"
   ]
  },
  {
   "cell_type": "code",
   "execution_count": 6,
   "id": "cde04e22",
   "metadata": {},
   "outputs": [],
   "source": [
    "gdp_df = gdp_df.drop(columns = 'Value Footnotes')"
   ]
  },
  {
   "cell_type": "code",
   "execution_count": 7,
   "id": "0a1d5baa",
   "metadata": {},
   "outputs": [],
   "source": [
    "gdp_df = gdp_df.rename(columns = {'Country or Area': 'Country', 'Value': 'GDP_Per_Capita'})"
   ]
  },
  {
   "cell_type": "code",
   "execution_count": 8,
   "id": "fde4b716",
   "metadata": {
    "scrolled": true
   },
   "outputs": [
    {
     "data": {
      "text/html": [
       "<div>\n",
       "<style scoped>\n",
       "    .dataframe tbody tr th:only-of-type {\n",
       "        vertical-align: middle;\n",
       "    }\n",
       "\n",
       "    .dataframe tbody tr th {\n",
       "        vertical-align: top;\n",
       "    }\n",
       "\n",
       "    .dataframe thead th {\n",
       "        text-align: right;\n",
       "    }\n",
       "</style>\n",
       "<table border=\"1\" class=\"dataframe\">\n",
       "  <thead>\n",
       "    <tr style=\"text-align: right;\">\n",
       "      <th></th>\n",
       "      <th>Country</th>\n",
       "      <th>Year</th>\n",
       "      <th>GDP_Per_Capita</th>\n",
       "    </tr>\n",
       "  </thead>\n",
       "  <tbody>\n",
       "    <tr>\n",
       "      <th>0</th>\n",
       "      <td>Afghanistan</td>\n",
       "      <td>2020</td>\n",
       "      <td>1970.560169</td>\n",
       "    </tr>\n",
       "    <tr>\n",
       "      <th>1</th>\n",
       "      <td>Afghanistan</td>\n",
       "      <td>2019</td>\n",
       "      <td>2065.036235</td>\n",
       "    </tr>\n",
       "  </tbody>\n",
       "</table>\n",
       "</div>"
      ],
      "text/plain": [
       "       Country  Year  GDP_Per_Capita\n",
       "0  Afghanistan  2020     1970.560169\n",
       "1  Afghanistan  2019     2065.036235"
      ]
     },
     "execution_count": 8,
     "metadata": {},
     "output_type": "execute_result"
    }
   ],
   "source": [
    "gdp_df\n",
    "gdp_df.head(2)"
   ]
  },
  {
   "cell_type": "markdown",
   "id": "94e68f53",
   "metadata": {},
   "source": [
    "# 7"
   ]
  },
  {
   "cell_type": "code",
   "execution_count": 9,
   "id": "d7b2f4cc",
   "metadata": {},
   "outputs": [
    {
     "data": {
      "text/plain": [
       "Least developed countries: UN classification    31\n",
       "Niger                                           31\n",
       "Middle East & North Africa (IDA & IBRD)         31\n",
       "Middle income                                   31\n",
       "Mongolia                                        31\n",
       "                                                ..\n",
       "Kosovo                                          13\n",
       "Turks and Caicos Islands                        10\n",
       "Sint Maarten (Dutch part)                       10\n",
       "Somalia                                          8\n",
       "Djibouti                                         8\n",
       "Name: Country, Length: 242, dtype: int64"
      ]
     },
     "execution_count": 9,
     "metadata": {},
     "output_type": "execute_result"
    }
   ],
   "source": [
    "gdp_df['Country'].value_counts()"
   ]
  },
  {
   "cell_type": "code",
   "execution_count": 10,
   "id": "773bc77f",
   "metadata": {},
   "outputs": [
    {
     "data": {
      "text/plain": [
       "31"
      ]
     },
     "execution_count": 10,
     "metadata": {},
     "output_type": "execute_result"
    }
   ],
   "source": [
    "len(gdp_df['Year'].unique())"
   ]
  },
  {
   "cell_type": "code",
   "execution_count": 11,
   "id": "f2033c53",
   "metadata": {},
   "outputs": [
    {
     "data": {
      "text/plain": [
       "2018    242\n",
       "2017    242\n",
       "2016    242\n",
       "2015    242\n",
       "2014    242\n",
       "2013    242\n",
       "2019    241\n",
       "2020    240\n",
       "2012    240\n",
       "2011    240\n",
       "2010    239\n",
       "2009    239\n",
       "2008    238\n",
       "2007    237\n",
       "2006    237\n",
       "2004    236\n",
       "2005    236\n",
       "2003    235\n",
       "2002    235\n",
       "2001    234\n",
       "2000    233\n",
       "1999    227\n",
       "1998    226\n",
       "1997    226\n",
       "1996    222\n",
       "1995    222\n",
       "1994    211\n",
       "1993    209\n",
       "1992    208\n",
       "1991    207\n",
       "1990    206\n",
       "Name: Year, dtype: int64"
      ]
     },
     "execution_count": 11,
     "metadata": {},
     "output_type": "execute_result"
    }
   ],
   "source": [
    "gdp_df['Year'].value_counts()"
   ]
  },
  {
   "cell_type": "code",
   "execution_count": 12,
   "id": "938476b8",
   "metadata": {},
   "outputs": [
    {
     "data": {
      "text/plain": [
       "Country\n",
       "Afghanistan                    19\n",
       "Africa Eastern and Southern    31\n",
       "Africa Western and Central     31\n",
       "Albania                        31\n",
       "Algeria                        31\n",
       "                               ..\n",
       "Vietnam                        31\n",
       "West Bank and Gaza             27\n",
       "World                          31\n",
       "Zambia                         31\n",
       "Zimbabwe                       31\n",
       "Name: Year, Length: 242, dtype: int64"
      ]
     },
     "execution_count": 12,
     "metadata": {},
     "output_type": "execute_result"
    }
   ],
   "source": [
    "gdp_df.groupby('Country')['Year'].nunique() ## just testing these out for comparison\n",
    "\n"
   ]
  },
  {
   "cell_type": "code",
   "execution_count": 13,
   "id": "1e480ec2",
   "metadata": {},
   "outputs": [
    {
     "data": {
      "text/plain": [
       "Country\n",
       "Afghanistan                    [2020, 2019, 2018, 2017, 2016, 2015, 2014, 201...\n",
       "Africa Eastern and Southern    [2020, 2019, 2018, 2017, 2016, 2015, 2014, 201...\n",
       "Africa Western and Central     [2020, 2019, 2018, 2017, 2016, 2015, 2014, 201...\n",
       "Albania                        [2020, 2019, 2018, 2017, 2016, 2015, 2014, 201...\n",
       "Algeria                        [2020, 2019, 2018, 2017, 2016, 2015, 2014, 201...\n",
       "                                                     ...                        \n",
       "Vietnam                        [2020, 2019, 2018, 2017, 2016, 2015, 2014, 201...\n",
       "West Bank and Gaza             [2020, 2019, 2018, 2017, 2016, 2015, 2014, 201...\n",
       "World                          [2020, 2019, 2018, 2017, 2016, 2015, 2014, 201...\n",
       "Zambia                         [2020, 2019, 2018, 2017, 2016, 2015, 2014, 201...\n",
       "Zimbabwe                       [2020, 2019, 2018, 2017, 2016, 2015, 2014, 201...\n",
       "Name: Year, Length: 242, dtype: object"
      ]
     },
     "execution_count": 13,
     "metadata": {},
     "output_type": "execute_result"
    }
   ],
   "source": [
    "gdp_df.groupby('Country')['Year'].unique() ## just testing these out for comparison"
   ]
  },
  {
   "cell_type": "code",
   "execution_count": 14,
   "id": "c736d484",
   "metadata": {},
   "outputs": [],
   "source": [
    "countries_with_all_years = gdp_df.groupby('Country')['Year'].nunique()\n",
    "countries_missing_years = countries_with_all_years[countries_with_all_years < len(gdp_df['Year'].unique())]"
   ]
  },
  {
   "cell_type": "code",
   "execution_count": 15,
   "id": "08e013b5",
   "metadata": {},
   "outputs": [
    {
     "data": {
      "text/plain": [
       "205"
      ]
     },
     "execution_count": 15,
     "metadata": {},
     "output_type": "execute_result"
    }
   ],
   "source": [
    "len(countries_with_all_years[countries_with_all_years == len(gdp_df['Year'].unique())])"
   ]
  },
  {
   "cell_type": "code",
   "execution_count": 16,
   "id": "db61ec9b",
   "metadata": {},
   "outputs": [],
   "source": [
    "count_of_qualified_countries = len(countries_with_all_years[countries_with_all_years == len(gdp_df['Year'].unique())])"
   ]
  },
  {
   "cell_type": "code",
   "execution_count": 17,
   "id": "bd979798",
   "metadata": {
    "scrolled": true
   },
   "outputs": [
    {
     "data": {
      "text/plain": [
       "205"
      ]
     },
     "execution_count": 17,
     "metadata": {},
     "output_type": "execute_result"
    }
   ],
   "source": [
    "count_of_qualified_countries"
   ]
  },
  {
   "cell_type": "code",
   "execution_count": 18,
   "id": "71272697",
   "metadata": {},
   "outputs": [],
   "source": [
    "countries_without_every_year = countries_with_all_years[countries_with_all_years < len(gdp_df['Year'].unique())]"
   ]
  },
  {
   "cell_type": "code",
   "execution_count": 19,
   "id": "ad514aab",
   "metadata": {},
   "outputs": [
    {
     "name": "stdout",
     "output_type": "stream",
     "text": [
      "Qualifying Countries:\n",
      "205\n"
     ]
    }
   ],
   "source": [
    "print('Qualifying Countries:')\n",
    "print(count_of_qualified_countries)"
   ]
  },
  {
   "cell_type": "code",
   "execution_count": 20,
   "id": "a338ec11",
   "metadata": {},
   "outputs": [
    {
     "name": "stdout",
     "output_type": "stream",
     "text": [
      "Countries excluded:\n",
      "Country\n",
      "Turkmenistan                 30\n",
      "Hungary                      30\n",
      "Slovak Republic              29\n",
      "Cambodia                     28\n",
      "West Bank and Gaza           27\n",
      "Bosnia and Herzegovina       27\n",
      "Kuwait                       26\n",
      "Slovenia                     26\n",
      "Serbia                       26\n",
      "Moldova                      26\n",
      "Lithuania                    26\n",
      "Latvia                       26\n",
      "Maldives                     26\n",
      "Iceland                      26\n",
      "Estonia                      26\n",
      "Israel                       26\n",
      "Croatia                      26\n",
      "San Marino                   24\n",
      "Small states                 24\n",
      "Canada                       24\n",
      "Montenegro                   24\n",
      "Libya                        22\n",
      "Liberia                      21\n",
      "Timor-Leste                  21\n",
      "Other small states           21\n",
      "Palau                        21\n",
      "Qatar                        21\n",
      "CuraÃ§ao                     21\n",
      "SÃ£o TomÃ© and Principe      20\n",
      "Afghanistan                  19\n",
      "Nauru                        17\n",
      "Cayman Islands               15\n",
      "Kosovo                       13\n",
      "Sint Maarten (Dutch part)    10\n",
      "Turks and Caicos Islands     10\n",
      "Somalia                       8\n",
      "Djibouti                      8\n",
      "Name: Year, dtype: int64\n"
     ]
    }
   ],
   "source": [
    "print('Countries excluded:')\n",
    "print(countries_without_every_year.sort_values(ascending=False))"
   ]
  },
  {
   "cell_type": "markdown",
   "id": "b4e973de",
   "metadata": {},
   "source": [
    "## kept in extra coding to just reference and practice different times for 7, 205 total that have been in every year, age of country, liberation of country, could all have impact in requested data."
   ]
  },
  {
   "cell_type": "markdown",
   "id": "823cab11",
   "metadata": {},
   "source": [
    "# 8) year = 2020 , GDP_Per_Capita\n",
    " histogram, density plot, boxplot, violin plot - what do I notice\n",
    " compare and contrast various info with each selection"
   ]
  },
  {
   "cell_type": "code",
   "execution_count": 21,
   "id": "eb2a9ef9",
   "metadata": {
    "scrolled": true
   },
   "outputs": [
    {
     "data": {
      "text/html": [
       "<div>\n",
       "<style scoped>\n",
       "    .dataframe tbody tr th:only-of-type {\n",
       "        vertical-align: middle;\n",
       "    }\n",
       "\n",
       "    .dataframe tbody tr th {\n",
       "        vertical-align: top;\n",
       "    }\n",
       "\n",
       "    .dataframe thead th {\n",
       "        text-align: right;\n",
       "    }\n",
       "</style>\n",
       "<table border=\"1\" class=\"dataframe\">\n",
       "  <thead>\n",
       "    <tr style=\"text-align: right;\">\n",
       "      <th></th>\n",
       "      <th>Country</th>\n",
       "      <th>Year</th>\n",
       "      <th>GDP_Per_Capita</th>\n",
       "    </tr>\n",
       "  </thead>\n",
       "  <tbody>\n",
       "    <tr>\n",
       "      <th>0</th>\n",
       "      <td>Afghanistan</td>\n",
       "      <td>2020</td>\n",
       "      <td>1970.560169</td>\n",
       "    </tr>\n",
       "    <tr>\n",
       "      <th>1</th>\n",
       "      <td>Afghanistan</td>\n",
       "      <td>2019</td>\n",
       "      <td>2065.036235</td>\n",
       "    </tr>\n",
       "    <tr>\n",
       "      <th>2</th>\n",
       "      <td>Afghanistan</td>\n",
       "      <td>2018</td>\n",
       "      <td>2033.804389</td>\n",
       "    </tr>\n",
       "    <tr>\n",
       "      <th>3</th>\n",
       "      <td>Afghanistan</td>\n",
       "      <td>2017</td>\n",
       "      <td>2058.400221</td>\n",
       "    </tr>\n",
       "    <tr>\n",
       "      <th>4</th>\n",
       "      <td>Afghanistan</td>\n",
       "      <td>2016</td>\n",
       "      <td>2057.067978</td>\n",
       "    </tr>\n",
       "    <tr>\n",
       "      <th>...</th>\n",
       "      <td>...</td>\n",
       "      <td>...</td>\n",
       "      <td>...</td>\n",
       "    </tr>\n",
       "    <tr>\n",
       "      <th>7171</th>\n",
       "      <td>Zimbabwe</td>\n",
       "      <td>1994</td>\n",
       "      <td>2603.927369</td>\n",
       "    </tr>\n",
       "    <tr>\n",
       "      <th>7172</th>\n",
       "      <td>Zimbabwe</td>\n",
       "      <td>1993</td>\n",
       "      <td>2420.092791</td>\n",
       "    </tr>\n",
       "    <tr>\n",
       "      <th>7173</th>\n",
       "      <td>Zimbabwe</td>\n",
       "      <td>1992</td>\n",
       "      <td>2437.152908</td>\n",
       "    </tr>\n",
       "    <tr>\n",
       "      <th>7174</th>\n",
       "      <td>Zimbabwe</td>\n",
       "      <td>1991</td>\n",
       "      <td>2733.696626</td>\n",
       "    </tr>\n",
       "    <tr>\n",
       "      <th>7175</th>\n",
       "      <td>Zimbabwe</td>\n",
       "      <td>1990</td>\n",
       "      <td>2652.129209</td>\n",
       "    </tr>\n",
       "  </tbody>\n",
       "</table>\n",
       "<p>7176 rows × 3 columns</p>\n",
       "</div>"
      ],
      "text/plain": [
       "          Country  Year  GDP_Per_Capita\n",
       "0     Afghanistan  2020     1970.560169\n",
       "1     Afghanistan  2019     2065.036235\n",
       "2     Afghanistan  2018     2033.804389\n",
       "3     Afghanistan  2017     2058.400221\n",
       "4     Afghanistan  2016     2057.067978\n",
       "...           ...   ...             ...\n",
       "7171     Zimbabwe  1994     2603.927369\n",
       "7172     Zimbabwe  1993     2420.092791\n",
       "7173     Zimbabwe  1992     2437.152908\n",
       "7174     Zimbabwe  1991     2733.696626\n",
       "7175     Zimbabwe  1990     2652.129209\n",
       "\n",
       "[7176 rows x 3 columns]"
      ]
     },
     "execution_count": 21,
     "metadata": {},
     "output_type": "execute_result"
    }
   ],
   "source": [
    "gdp_df"
   ]
  },
  {
   "cell_type": "code",
   "execution_count": 22,
   "id": "14b178db",
   "metadata": {},
   "outputs": [],
   "source": [
    "gdp2020 = gdp_df[gdp_df['Year'] == 2020]"
   ]
  },
  {
   "cell_type": "markdown",
   "id": "a171ea26",
   "metadata": {},
   "source": [
    "## Histogram Plot"
   ]
  },
  {
   "cell_type": "code",
   "execution_count": 23,
   "id": "11a4b319",
   "metadata": {},
   "outputs": [
    {
     "data": {
      "image/png": "[encoded data removed]",
      "text/plain": [
       "<Figure size 640x480 with 1 Axes>"
      ]
     },
     "metadata": {},
     "output_type": "display_data"
    }
   ],
   "source": [
    "# libraries & dataset\n",
    "import seaborn as sns\n",
    "import matplotlib.pyplot as plt\n",
    "# set a grey background (use sns.set_theme() if seaborn version 0.11.0 or above) \n",
    "sns.set(style=\"darkgrid\")\n",
    "df = sns.load_dataset(\"iris\")\n",
    "sns\n",
    "\n",
    "sns.histplot(data=gdp2020, x=\"GDP_Per_Capita\")\n",
    "plt.show() ##Histogram"
   ]
  },
  {
   "cell_type": "markdown",
   "id": "ff836e15",
   "metadata": {},
   "source": [
    "## Looks like a bunch of broke countries"
   ]
  },
  {
   "cell_type": "markdown",
   "id": "eff55b97",
   "metadata": {},
   "source": [
    "## Density Plot Same Data"
   ]
  },
  {
   "cell_type": "code",
   "execution_count": 24,
   "id": "dd5d3355",
   "metadata": {},
   "outputs": [
    {
     "name": "stderr",
     "output_type": "stream",
     "text": [
      "C:\\Users\\patri\\AppData\\Local\\Temp\\ipykernel_29220\\2447469971.py:9: FutureWarning: \n",
      "\n",
      "`shade` is now deprecated in favor of `fill`; setting `fill=True`.\n",
      "This will become an error in seaborn v0.14.0; please update your code.\n",
      "\n",
      "  sns.kdeplot(gdp2020['GDP_Per_Capita'], shade=True)\n"
     ]
    },
    {
     "data": {
      "image/png": "[encoded data removed]",
      "text/plain": [
       "<Figure size 640x480 with 1 Axes>"
      ]
     },
     "metadata": {},
     "output_type": "display_data"
    }
   ],
   "source": [
    "# libraries & dataset\n",
    "import seaborn as sns\n",
    "import matplotlib.pyplot as plt\n",
    "# set a grey background (use sns.set_theme() if seaborn version 0.11.0 or above) \n",
    "sns.set(style=\"darkgrid\")\n",
    "df = sns.load_dataset('iris')\n",
    " \n",
    "# density plot with shaded area with kdeplot 'shade' parameter\n",
    "sns.kdeplot(gdp2020['GDP_Per_Capita'], shade=True)\n",
    "plt.show()"
   ]
  },
  {
   "cell_type": "markdown",
   "id": "1c6fd720",
   "metadata": {},
   "source": [
    "# Density Chart showing how most are in the poor range"
   ]
  },
  {
   "cell_type": "code",
   "execution_count": 25,
   "id": "e2e64c3e",
   "metadata": {},
   "outputs": [
    {
     "data": {
      "image/png": "[encoded data removed]",
      "text/plain": [
       "<Figure size 640x480 with 1 Axes>"
      ]
     },
     "metadata": {},
     "output_type": "display_data"
    }
   ],
   "source": [
    "# libraries & dataset\n",
    "import seaborn as sns\n",
    "import matplotlib.pyplot as plt\n",
    "# set a grey background (use sns.set_theme() if seaborn version 0.11.0 or above) \n",
    "sns.set(style=\"darkgrid\")\n",
    "df = sns.load_dataset('iris')\n",
    "\n",
    "sns.boxplot(y=gdp2020[\"GDP_Per_Capita\"])\n",
    "plt.show()"
   ]
  },
  {
   "cell_type": "markdown",
   "id": "68050db6",
   "metadata": {},
   "source": [
    "# This shows the few outliers of most of the countries when it comes to GDP value."
   ]
  },
  {
   "cell_type": "code",
   "execution_count": 26,
   "id": "f1428ed5",
   "metadata": {},
   "outputs": [
    {
     "data": {
      "image/png": "[encoded data removed]",
      "text/plain": [
       "<Figure size 640x480 with 1 Axes>"
      ]
     },
     "metadata": {},
     "output_type": "display_data"
    }
   ],
   "source": [
    "import seaborn as sns\n",
    "sns.violinplot(x=gdp2020['GDP_Per_Capita'])\n",
    "plt.xlabel('GDP Per Capita')\n",
    "plt.title('Violin Plot GDP Per Capita 2020')\n",
    "plt.show()"
   ]
  },
  {
   "cell_type": "markdown",
   "id": "80c61d45",
   "metadata": {},
   "source": [
    "# looks like a stingray. lol\n"
   ]
  },
  {
   "cell_type": "markdown",
   "id": "9e9baba5",
   "metadata": {},
   "source": [
    "# 9) median gdp value of 2020 -- 12908"
   ]
  },
  {
   "cell_type": "code",
   "execution_count": 27,
   "id": "1a63585a",
   "metadata": {},
   "outputs": [],
   "source": [
    "median_2020_gdp = gdp2020['GDP_Per_Capita'].median()"
   ]
  },
  {
   "cell_type": "code",
   "execution_count": 28,
   "id": "653bb60e",
   "metadata": {},
   "outputs": [
    {
     "name": "stdout",
     "output_type": "stream",
     "text": [
      "12908.9374056206\n"
     ]
    }
   ],
   "source": [
    "print(median_2020_gdp)"
   ]
  },
  {
   "cell_type": "markdown",
   "id": "abec57a1",
   "metadata": {},
   "source": [
    "## 10)  create some visualizations to compare GDP per capita values for the years 1990, 2000, 2010, and 2020. Start by subsetting your data to just these 4 years into a new DataFrame named gdp_decades. Using this, create the following 4 plots:"
   ]
  },
  {
   "cell_type": "code",
   "execution_count": 29,
   "id": "e93fea03",
   "metadata": {},
   "outputs": [],
   "source": [
    "years = [1990,2000,2010,2020]\n",
    "gdp_decades = gdp_df[gdp_df['Year'].isin(years)]"
   ]
  },
  {
   "cell_type": "markdown",
   "id": "d7f9ef4e",
   "metadata": {},
   "source": [
    "9 Boxplot"
   ]
  },
  {
   "cell_type": "code",
   "execution_count": 30,
   "id": "4cab7b23",
   "metadata": {
    "scrolled": true
   },
   "outputs": [
    {
     "data": {
      "image/png": "[encoded data removed]",
      "text/plain": [
       "<Figure size 1000x600 with 1 Axes>"
      ]
     },
     "metadata": {},
     "output_type": "display_data"
    }
   ],
   "source": [
    "plt.figure(figsize=(10, 6))\n",
    "sns.boxplot(data=gdp_decades, x='Year', y='GDP_Per_Capita')\n",
    "plt.xlabel('Year')\n",
    "plt.ylabel('GDP Per Capita')\n",
    "plt.title('GDP Per Capita Comparison (Boxplot)')\n",
    "plt.show()"
   ]
  },
  {
   "cell_type": "markdown",
   "id": "aff413ee",
   "metadata": {},
   "source": [
    " Barplot"
   ]
  },
  {
   "cell_type": "code",
   "execution_count": 31,
   "id": "7e5e4e11",
   "metadata": {},
   "outputs": [
    {
     "data": {
      "image/png": "[encoded data removed]",
      "text/plain": [
       "<Figure size 1000x600 with 1 Axes>"
      ]
     },
     "metadata": {},
     "output_type": "display_data"
    }
   ],
   "source": [
    "plt.figure(figsize=(10, 6))\n",
    "sns.barplot(data=gdp_decades, x='Year', y='GDP_Per_Capita')\n",
    "plt.xlabel('Year')\n",
    "plt.ylabel('GDP Per Capita')\n",
    "plt.title('GDP Per Capita Comparison (Barplot)')\n",
    "plt.show()"
   ]
  },
  {
   "cell_type": "markdown",
   "id": "7010c819",
   "metadata": {},
   "source": [
    " Scatterplot"
   ]
  },
  {
   "cell_type": "code",
   "execution_count": 32,
   "id": "335c4a8a",
   "metadata": {
    "scrolled": true
   },
   "outputs": [
    {
     "data": {
      "image/png": "[encoded data removed]",
      "text/plain": [
       "<Figure size 1000x600 with 1 Axes>"
      ]
     },
     "metadata": {},
     "output_type": "display_data"
    }
   ],
   "source": [
    "plt.figure(figsize=(10, 6))\n",
    "sns.scatterplot(data=gdp_decades, x='Year', y='GDP_Per_Capita')\n",
    "plt.xlabel('Year')\n",
    "plt.ylabel('GDP Per Capita')\n",
    "plt.title('GDP Per Capita Comparison (Scatterplot)')\n",
    "plt.show()"
   ]
  },
  {
   "cell_type": "markdown",
   "id": "6071b909",
   "metadata": {},
   "source": [
    " Scatterplot with trend line"
   ]
  },
  {
   "cell_type": "code",
   "execution_count": 33,
   "id": "1a5c1829",
   "metadata": {
    "scrolled": true
   },
   "outputs": [
    {
     "data": {
      "image/png": "[encoded data removed]",
      "text/plain": [
       "<Figure size 1000x600 with 1 Axes>"
      ]
     },
     "metadata": {},
     "output_type": "display_data"
    }
   ],
   "source": [
    "plt.figure(figsize=(10, 6))\n",
    "sns.regplot(data=gdp_decades, x='Year', y='GDP_Per_Capita')\n",
    "plt.xlabel('Year')\n",
    "plt.ylabel('GDP Per Capita')\n",
    "plt.title('GDP Per Capita Comparison with Trend Line')\n",
    "plt.show()"
   ]
  },
  {
   "cell_type": "markdown",
   "id": "a1ed38d5",
   "metadata": {},
   "source": [
    "Scatter plot with trend with different code"
   ]
  },
  {
   "cell_type": "code",
   "execution_count": 34,
   "id": "dd28f687",
   "metadata": {
    "scrolled": true
   },
   "outputs": [
    {
     "data": {
      "image/png": "[encoded data removed]",
      "text/plain": [
       "<Figure size 640x480 with 1 Axes>"
      ]
     },
     "metadata": {},
     "output_type": "display_data"
    }
   ],
   "source": [
    "# library &amp; dataset\n",
    "import seaborn as sns\n",
    "import matplotlib.pyplot as plt\n",
    "df = sns.load_dataset('iris')\n",
    " \n",
    "# plot\n",
    "sns.regplot(x=gdp_decades[\"Year\"], y=gdp_decades[\"GDP_Per_Capita\"], line_kws={\"color\":\"r\",\"alpha\":0.7,\"lw\":5})\n",
    "plt.show()"
   ]
  },
  {
   "cell_type": "code",
   "execution_count": 35,
   "id": "83cdda4f",
   "metadata": {
    "scrolled": true
   },
   "outputs": [
    {
     "data": {
      "text/html": [
       "<div>\n",
       "<style scoped>\n",
       "    .dataframe tbody tr th:only-of-type {\n",
       "        vertical-align: middle;\n",
       "    }\n",
       "\n",
       "    .dataframe tbody tr th {\n",
       "        vertical-align: top;\n",
       "    }\n",
       "\n",
       "    .dataframe thead th {\n",
       "        text-align: right;\n",
       "    }\n",
       "</style>\n",
       "<table border=\"1\" class=\"dataframe\">\n",
       "  <thead>\n",
       "    <tr style=\"text-align: right;\">\n",
       "      <th></th>\n",
       "      <th>Country</th>\n",
       "      <th>Year</th>\n",
       "      <th>GDP_Per_Capita</th>\n",
       "    </tr>\n",
       "  </thead>\n",
       "  <tbody>\n",
       "    <tr>\n",
       "      <th>7171</th>\n",
       "      <td>Zimbabwe</td>\n",
       "      <td>1994</td>\n",
       "      <td>2603.927369</td>\n",
       "    </tr>\n",
       "    <tr>\n",
       "      <th>7172</th>\n",
       "      <td>Zimbabwe</td>\n",
       "      <td>1993</td>\n",
       "      <td>2420.092791</td>\n",
       "    </tr>\n",
       "    <tr>\n",
       "      <th>7173</th>\n",
       "      <td>Zimbabwe</td>\n",
       "      <td>1992</td>\n",
       "      <td>2437.152908</td>\n",
       "    </tr>\n",
       "    <tr>\n",
       "      <th>7174</th>\n",
       "      <td>Zimbabwe</td>\n",
       "      <td>1991</td>\n",
       "      <td>2733.696626</td>\n",
       "    </tr>\n",
       "    <tr>\n",
       "      <th>7175</th>\n",
       "      <td>Zimbabwe</td>\n",
       "      <td>1990</td>\n",
       "      <td>2652.129209</td>\n",
       "    </tr>\n",
       "  </tbody>\n",
       "</table>\n",
       "</div>"
      ],
      "text/plain": [
       "       Country  Year  GDP_Per_Capita\n",
       "7171  Zimbabwe  1994     2603.927369\n",
       "7172  Zimbabwe  1993     2420.092791\n",
       "7173  Zimbabwe  1992     2437.152908\n",
       "7174  Zimbabwe  1991     2733.696626\n",
       "7175  Zimbabwe  1990     2652.129209"
      ]
     },
     "execution_count": 35,
     "metadata": {},
     "output_type": "execute_result"
    }
   ],
   "source": [
    "gdp_df.tail()"
   ]
  },
  {
   "cell_type": "markdown",
   "id": "fb8c5516",
   "metadata": {},
   "source": [
    "11) Which country was the first to have a GDP per capita greater than 100,000"
   ]
  },
  {
   "cell_type": "code",
   "execution_count": 36,
   "id": "88e5477e",
   "metadata": {},
   "outputs": [
    {
     "data": {
      "text/plain": [
       "Country            object\n",
       "Year                int64\n",
       "GDP_Per_Capita    float64\n",
       "dtype: object"
      ]
     },
     "execution_count": 36,
     "metadata": {},
     "output_type": "execute_result"
    }
   ],
   "source": [
    "gdp_df.dtypes"
   ]
  },
  {
   "cell_type": "code",
   "execution_count": 37,
   "id": "2393279f",
   "metadata": {},
   "outputs": [
    {
     "data": {
      "text/plain": [
       "1990"
      ]
     },
     "execution_count": 37,
     "metadata": {},
     "output_type": "execute_result"
    }
   ],
   "source": [
    "gdp_df['Year'].min()"
   ]
  },
  {
   "cell_type": "code",
   "execution_count": 38,
   "id": "d1628f6f",
   "metadata": {},
   "outputs": [
    {
     "data": {
      "text/plain": [
       "Country\n",
       "Afghanistan                    [2020, 2019, 2018, 2017, 2016, 2015, 2014, 201...\n",
       "Africa Eastern and Southern    [2020, 2019, 2018, 2017, 2016, 2015, 2014, 201...\n",
       "Africa Western and Central     [2020, 2019, 2018, 2017, 2016, 2015, 2014, 201...\n",
       "Albania                        [2020, 2019, 2018, 2017, 2016, 2015, 2014, 201...\n",
       "Algeria                        [2020, 2019, 2018, 2017, 2016, 2015, 2014, 201...\n",
       "                                                     ...                        \n",
       "Vietnam                        [2020, 2019, 2018, 2017, 2016, 2015, 2014, 201...\n",
       "West Bank and Gaza             [2020, 2019, 2018, 2017, 2016, 2015, 2014, 201...\n",
       "World                          [2020, 2019, 2018, 2017, 2016, 2015, 2014, 201...\n",
       "Zambia                         [2020, 2019, 2018, 2017, 2016, 2015, 2014, 201...\n",
       "Zimbabwe                       [2020, 2019, 2018, 2017, 2016, 2015, 2014, 201...\n",
       "Name: Year, Length: 242, dtype: object"
      ]
     },
     "execution_count": 38,
     "metadata": {},
     "output_type": "execute_result"
    }
   ],
   "source": [
    "gdp_df.groupby('Country')['Year'].unique()"
   ]
  },
  {
   "cell_type": "code",
   "execution_count": 39,
   "id": "c8fee304",
   "metadata": {},
   "outputs": [],
   "source": [
    "gdp_greater_than_100k = gdp_df[gdp_df['GDP_Per_Capita'] > 100000]\n"
   ]
  },
  {
   "cell_type": "code",
   "execution_count": 40,
   "id": "a67d5344",
   "metadata": {},
   "outputs": [],
   "source": [
    "earliest_year = gdp_greater_than_100k['Year'].min()\n"
   ]
  },
  {
   "cell_type": "code",
   "execution_count": 41,
   "id": "6ad9c8e2",
   "metadata": {},
   "outputs": [],
   "source": [
    "earliest_year_data = gdp_greater_than_100k[gdp_greater_than_100k['Year'] == earliest_year]\n"
   ]
  },
  {
   "cell_type": "code",
   "execution_count": 42,
   "id": "d6d34bda",
   "metadata": {},
   "outputs": [],
   "source": [
    "first_country = earliest_year_data['Country'].iloc[0]\n"
   ]
  },
  {
   "cell_type": "code",
   "execution_count": 43,
   "id": "a88e5529",
   "metadata": {
    "scrolled": false
   },
   "outputs": [
    {
     "name": "stdout",
     "output_type": "stream",
     "text": [
      "United Arab Emirates\n"
     ]
    }
   ],
   "source": [
    "print(first_country)"
   ]
  },
  {
   "cell_type": "markdown",
   "id": "65b25658",
   "metadata": {},
   "source": [
    "12) Which country had the highest GDP per capita in 2020? Create a plot showing how this country's GDP per capita has changed over the timespan of the dataset."
   ]
  },
  {
   "cell_type": "code",
   "execution_count": 44,
   "id": "aa056ea0",
   "metadata": {},
   "outputs": [
    {
     "data": {
      "text/plain": [
       "161971.46466102"
      ]
     },
     "execution_count": 44,
     "metadata": {},
     "output_type": "execute_result"
    }
   ],
   "source": [
    "gdp_df['GDP_Per_Capita'].max()"
   ]
  },
  {
   "cell_type": "code",
   "execution_count": 45,
   "id": "a56dd75b",
   "metadata": {},
   "outputs": [],
   "source": [
    "year_2020 = gdp_df[gdp_df['Year'] == 2020]"
   ]
  },
  {
   "cell_type": "code",
   "execution_count": 46,
   "id": "fc3cc760",
   "metadata": {},
   "outputs": [],
   "source": [
    "max_gdp_2020 = year_2020[year_2020['GDP_Per_Capita'] == year_2020['GDP_Per_Capita'].max()]\n"
   ]
  },
  {
   "cell_type": "code",
   "execution_count": 47,
   "id": "aa62aa4f",
   "metadata": {},
   "outputs": [
    {
     "name": "stdout",
     "output_type": "stream",
     "text": [
      "         Country  Year  GDP_Per_Capita\n",
      "3882  Luxembourg  2020   112557.309472\n"
     ]
    }
   ],
   "source": [
    "print(max_gdp_2020)"
   ]
  },
  {
   "cell_type": "code",
   "execution_count": 48,
   "id": "56adcd30",
   "metadata": {},
   "outputs": [],
   "source": [
    "topcountry_maxgdp_2020 = max_gdp_2020['Country'].iloc[0]\n"
   ]
  },
  {
   "cell_type": "code",
   "execution_count": 49,
   "id": "a0cdd745",
   "metadata": {},
   "outputs": [
    {
     "name": "stdout",
     "output_type": "stream",
     "text": [
      "Luxembourg\n"
     ]
    }
   ],
   "source": [
    "print(topcountry_maxgdp_2020)"
   ]
  },
  {
   "cell_type": "code",
   "execution_count": 50,
   "id": "92d7c546",
   "metadata": {},
   "outputs": [],
   "source": [
    "topcountry_gdp_stats_over_time = gdp_df[gdp_df['Country'] == topcountry_maxgdp_2020]"
   ]
  },
  {
   "cell_type": "code",
   "execution_count": 51,
   "id": "3db0ba49",
   "metadata": {},
   "outputs": [
    {
     "data": {
      "image/png": "[encoded data removed]",
      "text/plain": [
       "<Figure size 1200x600 with 1 Axes>"
      ]
     },
     "metadata": {},
     "output_type": "display_data"
    }
   ],
   "source": [
    "plt.figure(figsize=(12, 6))\n",
    "sns.lineplot(data=topcountry_gdp_stats_over_time, x='Year', y='GDP_Per_Capita')\n",
    "plt.xlabel('Year')\n",
    "plt.ylabel('GDP Per Capita')\n",
    "plt.title('Luxembourg GDP Stats')\n",
    "plt.show()\n"
   ]
  },
  {
   "cell_type": "markdown",
   "id": "4f039023",
   "metadata": {},
   "source": [
    "13) Which country had the lowest GDP per capita in 2020? Create a plot showing how this country's GDP per capita has changed over the timespan of the dataset"
   ]
  },
  {
   "cell_type": "code",
   "execution_count": 52,
   "id": "80c2feae",
   "metadata": {},
   "outputs": [],
   "source": [
    "min_year_2020 = gdp_df[gdp_df['Year'] == 2020]"
   ]
  },
  {
   "cell_type": "code",
   "execution_count": 53,
   "id": "e03fcd17",
   "metadata": {},
   "outputs": [],
   "source": [
    "min_gdp_2020 = min_year_2020[min_year_2020['GDP_Per_Capita'] == min_year_2020['GDP_Per_Capita'].min()]\n"
   ]
  },
  {
   "cell_type": "code",
   "execution_count": 54,
   "id": "a927c74b",
   "metadata": {},
   "outputs": [
    {
     "name": "stdout",
     "output_type": "stream",
     "text": [
      "     Country  Year  GDP_Per_Capita\n",
      "914  Burundi  2020      731.064074\n"
     ]
    }
   ],
   "source": [
    "print(min_gdp_2020)"
   ]
  },
  {
   "cell_type": "code",
   "execution_count": 55,
   "id": "5a416cd9",
   "metadata": {},
   "outputs": [],
   "source": [
    "bottom_country_min_gdp_2020 = min_gdp_2020['Country'].iloc[0]"
   ]
  },
  {
   "cell_type": "code",
   "execution_count": 56,
   "id": "fb5220c4",
   "metadata": {},
   "outputs": [],
   "source": [
    "min_country_gdp_stats_over_time = gdp_df[gdp_df['Country'] ==bottom_country_min_gdp_2020]"
   ]
  },
  {
   "cell_type": "code",
   "execution_count": 57,
   "id": "64abfdd1",
   "metadata": {},
   "outputs": [
    {
     "data": {
      "image/png": "[encoded data removed]",
      "text/plain": [
       "<Figure size 1200x600 with 1 Axes>"
      ]
     },
     "metadata": {},
     "output_type": "display_data"
    }
   ],
   "source": [
    "plt.figure(figsize=(12, 6))\n",
    "sns.lineplot(data=min_country_gdp_stats_over_time, x='Year', y='GDP_Per_Capita')\n",
    "plt.xlabel('Year')\n",
    "plt.ylabel('GDP Per Capita')\n",
    "plt.title('Burundi GDP Stats')\n",
    "plt.show()\n"
   ]
  },
  {
   "cell_type": "markdown",
   "id": "d2e0426b",
   "metadata": {},
   "source": [
    "####### Burundi had lowest GDP in 2020 /// didn't know if there needs to be a syntax for making titles or just editing it\n",
    "to include the name, will ask for feedback later"
   ]
  },
  {
   "cell_type": "markdown",
   "id": "e1fb24e8",
   "metadata": {},
   "source": [
    "####### Will do 13 bonus later"
   ]
  },
  {
   "cell_type": "markdown",
   "id": "5c937d67",
   "metadata": {},
   "source": [
    "14) importing additional dataset - internet_df"
   ]
  },
  {
   "cell_type": "code",
   "execution_count": 58,
   "id": "e7dcfcc9",
   "metadata": {},
   "outputs": [],
   "source": [
    "internet_df = pd.read_csv('../data/internet_use.csv', nrows=4495)\n"
   ]
  },
  {
   "cell_type": "markdown",
   "id": "9cf0bd87",
   "metadata": {},
   "source": [
    "15) Drop the Value Footnotes column and rename the remaining three to 'Country', 'Year', and 'Internet_Users_Pct'"
   ]
  },
  {
   "cell_type": "code",
   "execution_count": 59,
   "id": "072efd6f",
   "metadata": {},
   "outputs": [
    {
     "data": {
      "text/html": [
       "<div>\n",
       "<style scoped>\n",
       "    .dataframe tbody tr th:only-of-type {\n",
       "        vertical-align: middle;\n",
       "    }\n",
       "\n",
       "    .dataframe tbody tr th {\n",
       "        vertical-align: top;\n",
       "    }\n",
       "\n",
       "    .dataframe thead th {\n",
       "        text-align: right;\n",
       "    }\n",
       "</style>\n",
       "<table border=\"1\" class=\"dataframe\">\n",
       "  <thead>\n",
       "    <tr style=\"text-align: right;\">\n",
       "      <th></th>\n",
       "      <th>Country or Area</th>\n",
       "      <th>Year</th>\n",
       "      <th>Value</th>\n",
       "      <th>Value Footnotes</th>\n",
       "    </tr>\n",
       "  </thead>\n",
       "  <tbody>\n",
       "    <tr>\n",
       "      <th>0</th>\n",
       "      <td>Afghanistan</td>\n",
       "      <td>2014</td>\n",
       "      <td>6.390000</td>\n",
       "      <td>NaN</td>\n",
       "    </tr>\n",
       "    <tr>\n",
       "      <th>1</th>\n",
       "      <td>Afghanistan</td>\n",
       "      <td>2013</td>\n",
       "      <td>5.900000</td>\n",
       "      <td>NaN</td>\n",
       "    </tr>\n",
       "    <tr>\n",
       "      <th>2</th>\n",
       "      <td>Afghanistan</td>\n",
       "      <td>2012</td>\n",
       "      <td>5.454545</td>\n",
       "      <td>NaN</td>\n",
       "    </tr>\n",
       "    <tr>\n",
       "      <th>3</th>\n",
       "      <td>Afghanistan</td>\n",
       "      <td>2011</td>\n",
       "      <td>5.000000</td>\n",
       "      <td>NaN</td>\n",
       "    </tr>\n",
       "    <tr>\n",
       "      <th>4</th>\n",
       "      <td>Afghanistan</td>\n",
       "      <td>2010</td>\n",
       "      <td>4.000000</td>\n",
       "      <td>NaN</td>\n",
       "    </tr>\n",
       "  </tbody>\n",
       "</table>\n",
       "</div>"
      ],
      "text/plain": [
       "  Country or Area  Year     Value  Value Footnotes\n",
       "0     Afghanistan  2014  6.390000              NaN\n",
       "1     Afghanistan  2013  5.900000              NaN\n",
       "2     Afghanistan  2012  5.454545              NaN\n",
       "3     Afghanistan  2011  5.000000              NaN\n",
       "4     Afghanistan  2010  4.000000              NaN"
      ]
     },
     "execution_count": 59,
     "metadata": {},
     "output_type": "execute_result"
    }
   ],
   "source": [
    "internet_df.head()"
   ]
  },
  {
   "cell_type": "code",
   "execution_count": 60,
   "id": "98cc788a",
   "metadata": {},
   "outputs": [],
   "source": [
    "internet_df = internet_df.drop(columns = 'Value Footnotes')"
   ]
  },
  {
   "cell_type": "code",
   "execution_count": 61,
   "id": "6a2d562a",
   "metadata": {},
   "outputs": [
    {
     "data": {
      "text/html": [
       "<div>\n",
       "<style scoped>\n",
       "    .dataframe tbody tr th:only-of-type {\n",
       "        vertical-align: middle;\n",
       "    }\n",
       "\n",
       "    .dataframe tbody tr th {\n",
       "        vertical-align: top;\n",
       "    }\n",
       "\n",
       "    .dataframe thead th {\n",
       "        text-align: right;\n",
       "    }\n",
       "</style>\n",
       "<table border=\"1\" class=\"dataframe\">\n",
       "  <thead>\n",
       "    <tr style=\"text-align: right;\">\n",
       "      <th></th>\n",
       "      <th>Country or Area</th>\n",
       "      <th>Year</th>\n",
       "      <th>Value</th>\n",
       "    </tr>\n",
       "  </thead>\n",
       "  <tbody>\n",
       "    <tr>\n",
       "      <th>0</th>\n",
       "      <td>Afghanistan</td>\n",
       "      <td>2014</td>\n",
       "      <td>6.390000</td>\n",
       "    </tr>\n",
       "    <tr>\n",
       "      <th>1</th>\n",
       "      <td>Afghanistan</td>\n",
       "      <td>2013</td>\n",
       "      <td>5.900000</td>\n",
       "    </tr>\n",
       "    <tr>\n",
       "      <th>2</th>\n",
       "      <td>Afghanistan</td>\n",
       "      <td>2012</td>\n",
       "      <td>5.454545</td>\n",
       "    </tr>\n",
       "    <tr>\n",
       "      <th>3</th>\n",
       "      <td>Afghanistan</td>\n",
       "      <td>2011</td>\n",
       "      <td>5.000000</td>\n",
       "    </tr>\n",
       "    <tr>\n",
       "      <th>4</th>\n",
       "      <td>Afghanistan</td>\n",
       "      <td>2010</td>\n",
       "      <td>4.000000</td>\n",
       "    </tr>\n",
       "    <tr>\n",
       "      <th>...</th>\n",
       "      <td>...</td>\n",
       "      <td>...</td>\n",
       "      <td>...</td>\n",
       "    </tr>\n",
       "    <tr>\n",
       "      <th>4490</th>\n",
       "      <td>Zimbabwe</td>\n",
       "      <td>1997</td>\n",
       "      <td>0.033080</td>\n",
       "    </tr>\n",
       "    <tr>\n",
       "      <th>4491</th>\n",
       "      <td>Zimbabwe</td>\n",
       "      <td>1996</td>\n",
       "      <td>0.016790</td>\n",
       "    </tr>\n",
       "    <tr>\n",
       "      <th>4492</th>\n",
       "      <td>Zimbabwe</td>\n",
       "      <td>1995</td>\n",
       "      <td>0.007684</td>\n",
       "    </tr>\n",
       "    <tr>\n",
       "      <th>4493</th>\n",
       "      <td>Zimbabwe</td>\n",
       "      <td>1994</td>\n",
       "      <td>0.001739</td>\n",
       "    </tr>\n",
       "    <tr>\n",
       "      <th>4494</th>\n",
       "      <td>Zimbabwe</td>\n",
       "      <td>1990</td>\n",
       "      <td>0.000000</td>\n",
       "    </tr>\n",
       "  </tbody>\n",
       "</table>\n",
       "<p>4495 rows × 3 columns</p>\n",
       "</div>"
      ],
      "text/plain": [
       "     Country or Area  Year     Value\n",
       "0        Afghanistan  2014  6.390000\n",
       "1        Afghanistan  2013  5.900000\n",
       "2        Afghanistan  2012  5.454545\n",
       "3        Afghanistan  2011  5.000000\n",
       "4        Afghanistan  2010  4.000000\n",
       "...              ...   ...       ...\n",
       "4490        Zimbabwe  1997  0.033080\n",
       "4491        Zimbabwe  1996  0.016790\n",
       "4492        Zimbabwe  1995  0.007684\n",
       "4493        Zimbabwe  1994  0.001739\n",
       "4494        Zimbabwe  1990  0.000000\n",
       "\n",
       "[4495 rows x 3 columns]"
      ]
     },
     "execution_count": 61,
     "metadata": {},
     "output_type": "execute_result"
    }
   ],
   "source": [
    "internet_df"
   ]
  },
  {
   "cell_type": "code",
   "execution_count": 62,
   "id": "a0384e31",
   "metadata": {},
   "outputs": [],
   "source": [
    "internet_df = internet_df.rename(columns = {'Country or Area': 'Country', 'Year': 'Year',  'Value': 'Internet_Users_Pct'})"
   ]
  },
  {
   "cell_type": "code",
   "execution_count": 63,
   "id": "3c3f9b40",
   "metadata": {},
   "outputs": [
    {
     "data": {
      "text/html": [
       "<div>\n",
       "<style scoped>\n",
       "    .dataframe tbody tr th:only-of-type {\n",
       "        vertical-align: middle;\n",
       "    }\n",
       "\n",
       "    .dataframe tbody tr th {\n",
       "        vertical-align: top;\n",
       "    }\n",
       "\n",
       "    .dataframe thead th {\n",
       "        text-align: right;\n",
       "    }\n",
       "</style>\n",
       "<table border=\"1\" class=\"dataframe\">\n",
       "  <thead>\n",
       "    <tr style=\"text-align: right;\">\n",
       "      <th></th>\n",
       "      <th>Country</th>\n",
       "      <th>Year</th>\n",
       "      <th>Internet_Users_Pct</th>\n",
       "    </tr>\n",
       "  </thead>\n",
       "  <tbody>\n",
       "    <tr>\n",
       "      <th>0</th>\n",
       "      <td>Afghanistan</td>\n",
       "      <td>2014</td>\n",
       "      <td>6.390000</td>\n",
       "    </tr>\n",
       "    <tr>\n",
       "      <th>1</th>\n",
       "      <td>Afghanistan</td>\n",
       "      <td>2013</td>\n",
       "      <td>5.900000</td>\n",
       "    </tr>\n",
       "    <tr>\n",
       "      <th>2</th>\n",
       "      <td>Afghanistan</td>\n",
       "      <td>2012</td>\n",
       "      <td>5.454545</td>\n",
       "    </tr>\n",
       "    <tr>\n",
       "      <th>3</th>\n",
       "      <td>Afghanistan</td>\n",
       "      <td>2011</td>\n",
       "      <td>5.000000</td>\n",
       "    </tr>\n",
       "    <tr>\n",
       "      <th>4</th>\n",
       "      <td>Afghanistan</td>\n",
       "      <td>2010</td>\n",
       "      <td>4.000000</td>\n",
       "    </tr>\n",
       "    <tr>\n",
       "      <th>...</th>\n",
       "      <td>...</td>\n",
       "      <td>...</td>\n",
       "      <td>...</td>\n",
       "    </tr>\n",
       "    <tr>\n",
       "      <th>4490</th>\n",
       "      <td>Zimbabwe</td>\n",
       "      <td>1997</td>\n",
       "      <td>0.033080</td>\n",
       "    </tr>\n",
       "    <tr>\n",
       "      <th>4491</th>\n",
       "      <td>Zimbabwe</td>\n",
       "      <td>1996</td>\n",
       "      <td>0.016790</td>\n",
       "    </tr>\n",
       "    <tr>\n",
       "      <th>4492</th>\n",
       "      <td>Zimbabwe</td>\n",
       "      <td>1995</td>\n",
       "      <td>0.007684</td>\n",
       "    </tr>\n",
       "    <tr>\n",
       "      <th>4493</th>\n",
       "      <td>Zimbabwe</td>\n",
       "      <td>1994</td>\n",
       "      <td>0.001739</td>\n",
       "    </tr>\n",
       "    <tr>\n",
       "      <th>4494</th>\n",
       "      <td>Zimbabwe</td>\n",
       "      <td>1990</td>\n",
       "      <td>0.000000</td>\n",
       "    </tr>\n",
       "  </tbody>\n",
       "</table>\n",
       "<p>4495 rows × 3 columns</p>\n",
       "</div>"
      ],
      "text/plain": [
       "          Country  Year  Internet_Users_Pct\n",
       "0     Afghanistan  2014            6.390000\n",
       "1     Afghanistan  2013            5.900000\n",
       "2     Afghanistan  2012            5.454545\n",
       "3     Afghanistan  2011            5.000000\n",
       "4     Afghanistan  2010            4.000000\n",
       "...           ...   ...                 ...\n",
       "4490     Zimbabwe  1997            0.033080\n",
       "4491     Zimbabwe  1996            0.016790\n",
       "4492     Zimbabwe  1995            0.007684\n",
       "4493     Zimbabwe  1994            0.001739\n",
       "4494     Zimbabwe  1990            0.000000\n",
       "\n",
       "[4495 rows x 3 columns]"
      ]
     },
     "execution_count": 63,
     "metadata": {},
     "output_type": "execute_result"
    }
   ],
   "source": [
    "internet_df"
   ]
  },
  {
   "cell_type": "markdown",
   "id": "331eefa4",
   "metadata": {},
   "source": [
    "16) Look at the number of observations in this dataset per year. What do you notice? 1960 - 2014 year range, 1990 huge spike where it's highest (maybe USSR?, then dips down drastically  until around Y2K"
   ]
  },
  {
   "cell_type": "code",
   "execution_count": 64,
   "id": "a3b0266c",
   "metadata": {
    "scrolled": true
   },
   "outputs": [
    {
     "name": "stdout",
     "output_type": "stream",
     "text": [
      "<class 'pandas.core.frame.DataFrame'>\n",
      "RangeIndex: 4495 entries, 0 to 4494\n",
      "Data columns (total 3 columns):\n",
      " #   Column              Non-Null Count  Dtype  \n",
      "---  ------              --------------  -----  \n",
      " 0   Country             4495 non-null   object \n",
      " 1   Year                4495 non-null   int64  \n",
      " 2   Internet_Users_Pct  4495 non-null   float64\n",
      "dtypes: float64(1), int64(1), object(1)\n",
      "memory usage: 105.5+ KB\n"
     ]
    },
    {
     "data": {
      "text/plain": [
       "Country      Year  Internet_Users_Pct\n",
       "Afghanistan  1990  0.000000              1\n",
       "Niger        2014  1.950000              1\n",
       "Nigeria      2000  0.064081              1\n",
       "             1999  0.041039              1\n",
       "             1998  0.025231              1\n",
       "                                        ..\n",
       "Georgia      2008  10.010000             1\n",
       "             2009  20.070000             1\n",
       "             2010  26.900000             1\n",
       "             2011  31.520000             1\n",
       "Zimbabwe     2014  19.890000             1\n",
       "Length: 4495, dtype: int64"
      ]
     },
     "execution_count": 64,
     "metadata": {},
     "output_type": "execute_result"
    }
   ],
   "source": [
    "internet_df.info()\n",
    "type(internet_df)\n",
    "internet_df.shape\n",
    "internet_df.head()\n",
    "internet_df.value_counts()\n"
   ]
  },
  {
   "cell_type": "code",
   "execution_count": 65,
   "id": "710cee9e",
   "metadata": {},
   "outputs": [],
   "source": [
    "top_internet_countries = internet_df.sort_values(by = 'Internet_Users_Pct', ascending = False)"
   ]
  },
  {
   "cell_type": "markdown",
   "id": "2fdd13ea",
   "metadata": {},
   "source": [
    "17) What is the first year to have a non-zero internet users percentage value? 1990"
   ]
  },
  {
   "cell_type": "code",
   "execution_count": 66,
   "id": "635681ff",
   "metadata": {},
   "outputs": [],
   "source": [
    "first_year_non_zero = internet_df[internet_df['Internet_Users_Pct'] > 0]"
   ]
  },
  {
   "cell_type": "code",
   "execution_count": 67,
   "id": "711f3771",
   "metadata": {},
   "outputs": [
    {
     "data": {
      "text/plain": [
       "1990"
      ]
     },
     "execution_count": 67,
     "metadata": {},
     "output_type": "execute_result"
    }
   ],
   "source": [
    "first_year_non_zero['Year'].min()"
   ]
  },
  {
   "cell_type": "code",
   "execution_count": 68,
   "id": "c52a0bc6",
   "metadata": {},
   "outputs": [],
   "source": [
    "subset_yeartest = internet_df[internet_df['Year'].isin([2000, 2014])]"
   ]
  },
  {
   "cell_type": "code",
   "execution_count": 69,
   "id": "e7e04357",
   "metadata": {},
   "outputs": [
    {
     "data": {
      "image/png": "[encoded data removed]",
      "text/plain": [
       "<Figure size 1000x600 with 1 Axes>"
      ]
     },
     "metadata": {},
     "output_type": "display_data"
    }
   ],
   "source": [
    "import matplotlib.pyplot as plt\n",
    "import seaborn as sns\n",
    "\n",
    "# grouping years together\n",
    "grouping_subsetyears = internet_df[internet_df['Year'].isin([2000, 2014])]\n",
    "\n",
    "# Create histograms\n",
    "plt.figure(figsize=(10, 6))\n",
    "sns.histplot(data=grouping_subsetyears, x='Internet_Users_Pct', hue='Year')\n",
    "plt.title(\"Country Internet Percentage 2000 and 2014 Comparison\")\n",
    "plt.xlabel(\"Internet Users Percentage\")\n",
    "plt.ylabel(\"Count of Countries\")\n",
    "plt.show()\n"
   ]
  },
  {
   "cell_type": "markdown",
   "id": "b1135e1c",
   "metadata": {},
   "source": [
    "19) For how many countries was the percentage of internet users below 5% in 2014?"
   ]
  },
  {
   "cell_type": "code",
   "execution_count": 70,
   "id": "78782db7",
   "metadata": {},
   "outputs": [],
   "source": [
    "below_5_percent = internet_df[(internet_df['Year'] == 2014) & (internet_df['Internet_Users_Pct'] < 5)]"
   ]
  },
  {
   "cell_type": "code",
   "execution_count": 71,
   "id": "b66fa119",
   "metadata": {},
   "outputs": [
    {
     "data": {
      "text/plain": [
       "16"
      ]
     },
     "execution_count": 71,
     "metadata": {},
     "output_type": "execute_result"
    }
   ],
   "source": [
    "below_5_percent['Country'].nunique()"
   ]
  },
  {
   "cell_type": "markdown",
   "id": "c794a537",
   "metadata": {},
   "source": [
    "20) Merge the two DataFrames to one. Do this in a way that keeps all rows from each of the two DataFrames. Call the new DataFrame gdp_and_internet_use. Look at the first and last few rows to confirm that it merged correctly."
   ]
  },
  {
   "cell_type": "code",
   "execution_count": 72,
   "id": "66c717d0",
   "metadata": {},
   "outputs": [
    {
     "data": {
      "text/html": [
       "<div>\n",
       "<style scoped>\n",
       "    .dataframe tbody tr th:only-of-type {\n",
       "        vertical-align: middle;\n",
       "    }\n",
       "\n",
       "    .dataframe tbody tr th {\n",
       "        vertical-align: top;\n",
       "    }\n",
       "\n",
       "    .dataframe thead th {\n",
       "        text-align: right;\n",
       "    }\n",
       "</style>\n",
       "<table border=\"1\" class=\"dataframe\">\n",
       "  <thead>\n",
       "    <tr style=\"text-align: right;\">\n",
       "      <th></th>\n",
       "      <th>Country</th>\n",
       "      <th>Year</th>\n",
       "      <th>Internet_Users_Pct</th>\n",
       "    </tr>\n",
       "  </thead>\n",
       "  <tbody>\n",
       "    <tr>\n",
       "      <th>0</th>\n",
       "      <td>Afghanistan</td>\n",
       "      <td>2014</td>\n",
       "      <td>6.390000</td>\n",
       "    </tr>\n",
       "    <tr>\n",
       "      <th>1</th>\n",
       "      <td>Afghanistan</td>\n",
       "      <td>2013</td>\n",
       "      <td>5.900000</td>\n",
       "    </tr>\n",
       "    <tr>\n",
       "      <th>2</th>\n",
       "      <td>Afghanistan</td>\n",
       "      <td>2012</td>\n",
       "      <td>5.454545</td>\n",
       "    </tr>\n",
       "    <tr>\n",
       "      <th>3</th>\n",
       "      <td>Afghanistan</td>\n",
       "      <td>2011</td>\n",
       "      <td>5.000000</td>\n",
       "    </tr>\n",
       "    <tr>\n",
       "      <th>4</th>\n",
       "      <td>Afghanistan</td>\n",
       "      <td>2010</td>\n",
       "      <td>4.000000</td>\n",
       "    </tr>\n",
       "    <tr>\n",
       "      <th>...</th>\n",
       "      <td>...</td>\n",
       "      <td>...</td>\n",
       "      <td>...</td>\n",
       "    </tr>\n",
       "    <tr>\n",
       "      <th>4490</th>\n",
       "      <td>Zimbabwe</td>\n",
       "      <td>1997</td>\n",
       "      <td>0.033080</td>\n",
       "    </tr>\n",
       "    <tr>\n",
       "      <th>4491</th>\n",
       "      <td>Zimbabwe</td>\n",
       "      <td>1996</td>\n",
       "      <td>0.016790</td>\n",
       "    </tr>\n",
       "    <tr>\n",
       "      <th>4492</th>\n",
       "      <td>Zimbabwe</td>\n",
       "      <td>1995</td>\n",
       "      <td>0.007684</td>\n",
       "    </tr>\n",
       "    <tr>\n",
       "      <th>4493</th>\n",
       "      <td>Zimbabwe</td>\n",
       "      <td>1994</td>\n",
       "      <td>0.001739</td>\n",
       "    </tr>\n",
       "    <tr>\n",
       "      <th>4494</th>\n",
       "      <td>Zimbabwe</td>\n",
       "      <td>1990</td>\n",
       "      <td>0.000000</td>\n",
       "    </tr>\n",
       "  </tbody>\n",
       "</table>\n",
       "<p>4495 rows × 3 columns</p>\n",
       "</div>"
      ],
      "text/plain": [
       "          Country  Year  Internet_Users_Pct\n",
       "0     Afghanistan  2014            6.390000\n",
       "1     Afghanistan  2013            5.900000\n",
       "2     Afghanistan  2012            5.454545\n",
       "3     Afghanistan  2011            5.000000\n",
       "4     Afghanistan  2010            4.000000\n",
       "...           ...   ...                 ...\n",
       "4490     Zimbabwe  1997            0.033080\n",
       "4491     Zimbabwe  1996            0.016790\n",
       "4492     Zimbabwe  1995            0.007684\n",
       "4493     Zimbabwe  1994            0.001739\n",
       "4494     Zimbabwe  1990            0.000000\n",
       "\n",
       "[4495 rows x 3 columns]"
      ]
     },
     "execution_count": 72,
     "metadata": {},
     "output_type": "execute_result"
    }
   ],
   "source": [
    "internet_df"
   ]
  },
  {
   "cell_type": "code",
   "execution_count": 73,
   "id": "a3445736",
   "metadata": {},
   "outputs": [
    {
     "data": {
      "text/html": [
       "<div>\n",
       "<style scoped>\n",
       "    .dataframe tbody tr th:only-of-type {\n",
       "        vertical-align: middle;\n",
       "    }\n",
       "\n",
       "    .dataframe tbody tr th {\n",
       "        vertical-align: top;\n",
       "    }\n",
       "\n",
       "    .dataframe thead th {\n",
       "        text-align: right;\n",
       "    }\n",
       "</style>\n",
       "<table border=\"1\" class=\"dataframe\">\n",
       "  <thead>\n",
       "    <tr style=\"text-align: right;\">\n",
       "      <th></th>\n",
       "      <th>Country</th>\n",
       "      <th>Year</th>\n",
       "      <th>GDP_Per_Capita</th>\n",
       "    </tr>\n",
       "  </thead>\n",
       "  <tbody>\n",
       "    <tr>\n",
       "      <th>0</th>\n",
       "      <td>Afghanistan</td>\n",
       "      <td>2020</td>\n",
       "      <td>1970.560169</td>\n",
       "    </tr>\n",
       "    <tr>\n",
       "      <th>1</th>\n",
       "      <td>Afghanistan</td>\n",
       "      <td>2019</td>\n",
       "      <td>2065.036235</td>\n",
       "    </tr>\n",
       "    <tr>\n",
       "      <th>2</th>\n",
       "      <td>Afghanistan</td>\n",
       "      <td>2018</td>\n",
       "      <td>2033.804389</td>\n",
       "    </tr>\n",
       "    <tr>\n",
       "      <th>3</th>\n",
       "      <td>Afghanistan</td>\n",
       "      <td>2017</td>\n",
       "      <td>2058.400221</td>\n",
       "    </tr>\n",
       "    <tr>\n",
       "      <th>4</th>\n",
       "      <td>Afghanistan</td>\n",
       "      <td>2016</td>\n",
       "      <td>2057.067978</td>\n",
       "    </tr>\n",
       "    <tr>\n",
       "      <th>...</th>\n",
       "      <td>...</td>\n",
       "      <td>...</td>\n",
       "      <td>...</td>\n",
       "    </tr>\n",
       "    <tr>\n",
       "      <th>7171</th>\n",
       "      <td>Zimbabwe</td>\n",
       "      <td>1994</td>\n",
       "      <td>2603.927369</td>\n",
       "    </tr>\n",
       "    <tr>\n",
       "      <th>7172</th>\n",
       "      <td>Zimbabwe</td>\n",
       "      <td>1993</td>\n",
       "      <td>2420.092791</td>\n",
       "    </tr>\n",
       "    <tr>\n",
       "      <th>7173</th>\n",
       "      <td>Zimbabwe</td>\n",
       "      <td>1992</td>\n",
       "      <td>2437.152908</td>\n",
       "    </tr>\n",
       "    <tr>\n",
       "      <th>7174</th>\n",
       "      <td>Zimbabwe</td>\n",
       "      <td>1991</td>\n",
       "      <td>2733.696626</td>\n",
       "    </tr>\n",
       "    <tr>\n",
       "      <th>7175</th>\n",
       "      <td>Zimbabwe</td>\n",
       "      <td>1990</td>\n",
       "      <td>2652.129209</td>\n",
       "    </tr>\n",
       "  </tbody>\n",
       "</table>\n",
       "<p>7176 rows × 3 columns</p>\n",
       "</div>"
      ],
      "text/plain": [
       "          Country  Year  GDP_Per_Capita\n",
       "0     Afghanistan  2020     1970.560169\n",
       "1     Afghanistan  2019     2065.036235\n",
       "2     Afghanistan  2018     2033.804389\n",
       "3     Afghanistan  2017     2058.400221\n",
       "4     Afghanistan  2016     2057.067978\n",
       "...           ...   ...             ...\n",
       "7171     Zimbabwe  1994     2603.927369\n",
       "7172     Zimbabwe  1993     2420.092791\n",
       "7173     Zimbabwe  1992     2437.152908\n",
       "7174     Zimbabwe  1991     2733.696626\n",
       "7175     Zimbabwe  1990     2652.129209\n",
       "\n",
       "[7176 rows x 3 columns]"
      ]
     },
     "execution_count": 73,
     "metadata": {},
     "output_type": "execute_result"
    }
   ],
   "source": [
    "gdp_df"
   ]
  },
  {
   "cell_type": "code",
   "execution_count": 74,
   "id": "45ce37c3",
   "metadata": {},
   "outputs": [
    {
     "data": {
      "text/html": [
       "<div>\n",
       "<style scoped>\n",
       "    .dataframe tbody tr th:only-of-type {\n",
       "        vertical-align: middle;\n",
       "    }\n",
       "\n",
       "    .dataframe tbody tr th {\n",
       "        vertical-align: top;\n",
       "    }\n",
       "\n",
       "    .dataframe thead th {\n",
       "        text-align: right;\n",
       "    }\n",
       "</style>\n",
       "<table border=\"1\" class=\"dataframe\">\n",
       "  <thead>\n",
       "    <tr style=\"text-align: right;\">\n",
       "      <th></th>\n",
       "      <th>Country</th>\n",
       "      <th>Year</th>\n",
       "      <th>GDP_Per_Capita</th>\n",
       "      <th>Internet_Users_Pct</th>\n",
       "    </tr>\n",
       "  </thead>\n",
       "  <tbody>\n",
       "    <tr>\n",
       "      <th>0</th>\n",
       "      <td>Afghanistan</td>\n",
       "      <td>2020</td>\n",
       "      <td>1970.560169</td>\n",
       "      <td>NaN</td>\n",
       "    </tr>\n",
       "    <tr>\n",
       "      <th>1</th>\n",
       "      <td>Afghanistan</td>\n",
       "      <td>2019</td>\n",
       "      <td>2065.036235</td>\n",
       "      <td>NaN</td>\n",
       "    </tr>\n",
       "    <tr>\n",
       "      <th>2</th>\n",
       "      <td>Afghanistan</td>\n",
       "      <td>2018</td>\n",
       "      <td>2033.804389</td>\n",
       "      <td>NaN</td>\n",
       "    </tr>\n",
       "  </tbody>\n",
       "</table>\n",
       "</div>"
      ],
      "text/plain": [
       "       Country  Year  GDP_Per_Capita  Internet_Users_Pct\n",
       "0  Afghanistan  2020     1970.560169                 NaN\n",
       "1  Afghanistan  2019     2065.036235                 NaN\n",
       "2  Afghanistan  2018     2033.804389                 NaN"
      ]
     },
     "execution_count": 74,
     "metadata": {},
     "output_type": "execute_result"
    }
   ],
   "source": [
    "gdp_and_internet_use = pd.merge(gdp_df, internet_df, \n",
    "                               left_on = ['Country','Year'], right_on = ['Country','Year'], \n",
    "                               how = 'outer')  ## how = type of join!\n",
    "gdp_and_internet_use.head(3) ## syntax for joins !!!!"
   ]
  },
  {
   "cell_type": "code",
   "execution_count": 75,
   "id": "5187ed04",
   "metadata": {},
   "outputs": [
    {
     "data": {
      "text/plain": [
       "(8256, 4)"
      ]
     },
     "execution_count": 75,
     "metadata": {},
     "output_type": "execute_result"
    }
   ],
   "source": [
    "gdp_and_internet_use.shape"
   ]
  },
  {
   "cell_type": "markdown",
   "id": "b4e56f1a",
   "metadata": {},
   "source": [
    "21) Find the three countries with the highest internet users percentage in 2014. Use a seaborn FacetGrid compare how the GDP per capita has changed over time for these three countries. What do you notice? get back to graphing later"
   ]
  },
  {
   "cell_type": "code",
   "execution_count": 76,
   "id": "f8cddcb5",
   "metadata": {},
   "outputs": [
    {
     "data": {
      "text/html": [
       "<div>\n",
       "<style scoped>\n",
       "    .dataframe tbody tr th:only-of-type {\n",
       "        vertical-align: middle;\n",
       "    }\n",
       "\n",
       "    .dataframe tbody tr th {\n",
       "        vertical-align: top;\n",
       "    }\n",
       "\n",
       "    .dataframe thead th {\n",
       "        text-align: right;\n",
       "    }\n",
       "</style>\n",
       "<table border=\"1\" class=\"dataframe\">\n",
       "  <thead>\n",
       "    <tr style=\"text-align: right;\">\n",
       "      <th></th>\n",
       "      <th>Country</th>\n",
       "      <th>Year</th>\n",
       "      <th>GDP_Per_Capita</th>\n",
       "      <th>Internet_Users_Pct</th>\n",
       "    </tr>\n",
       "  </thead>\n",
       "  <tbody>\n",
       "    <tr>\n",
       "      <th>6</th>\n",
       "      <td>Afghanistan</td>\n",
       "      <td>2014</td>\n",
       "      <td>2102.384604</td>\n",
       "      <td>6.39</td>\n",
       "    </tr>\n",
       "    <tr>\n",
       "      <th>87</th>\n",
       "      <td>Albania</td>\n",
       "      <td>2014</td>\n",
       "      <td>11586.833878</td>\n",
       "      <td>60.10</td>\n",
       "    </tr>\n",
       "    <tr>\n",
       "      <th>118</th>\n",
       "      <td>Algeria</td>\n",
       "      <td>2014</td>\n",
       "      <td>11512.690472</td>\n",
       "      <td>18.09</td>\n",
       "    </tr>\n",
       "  </tbody>\n",
       "</table>\n",
       "</div>"
      ],
      "text/plain": [
       "         Country  Year  GDP_Per_Capita  Internet_Users_Pct\n",
       "6    Afghanistan  2014     2102.384604                6.39\n",
       "87       Albania  2014    11586.833878               60.10\n",
       "118      Algeria  2014    11512.690472               18.09"
      ]
     },
     "execution_count": 76,
     "metadata": {},
     "output_type": "execute_result"
    }
   ],
   "source": [
    "testing21 = gdp_and_internet_use[(gdp_and_internet_use['Year'] == 2014) & (gdp_and_internet_use['Internet_Users_Pct'])]\n",
    "testing21.head(3)"
   ]
  },
  {
   "cell_type": "code",
   "execution_count": 77,
   "id": "4eeb8d73",
   "metadata": {
    "scrolled": true
   },
   "outputs": [
    {
     "name": "stdout",
     "output_type": "stream",
     "text": [
      "      Country  Year  GDP_Per_Capita  Internet_Users_Pct\n",
      "2803  Iceland  2014    50450.741612               98.16\n",
      "645   Bermuda  2014    77361.104881               96.80\n",
      "4880   Norway  2014    62390.130313               96.30\n"
     ]
    }
   ],
   "source": [
    "top_3_iup_countries = testing21.sort_values(by = 'Internet_Users_Pct', ascending = False)\n",
    "print(top_3_iup_countries[:3])\n"
   ]
  },
  {
   "cell_type": "code",
   "execution_count": 78,
   "id": "cd0f509f",
   "metadata": {},
   "outputs": [
    {
     "data": {
      "text/html": [
       "<div>\n",
       "<style scoped>\n",
       "    .dataframe tbody tr th:only-of-type {\n",
       "        vertical-align: middle;\n",
       "    }\n",
       "\n",
       "    .dataframe tbody tr th {\n",
       "        vertical-align: top;\n",
       "    }\n",
       "\n",
       "    .dataframe thead th {\n",
       "        text-align: right;\n",
       "    }\n",
       "</style>\n",
       "<table border=\"1\" class=\"dataframe\">\n",
       "  <thead>\n",
       "    <tr style=\"text-align: right;\">\n",
       "      <th></th>\n",
       "      <th>Country</th>\n",
       "      <th>Year</th>\n",
       "      <th>GDP_Per_Capita</th>\n",
       "      <th>Internet_Users_Pct</th>\n",
       "    </tr>\n",
       "  </thead>\n",
       "  <tbody>\n",
       "    <tr>\n",
       "      <th>2803</th>\n",
       "      <td>Iceland</td>\n",
       "      <td>2014</td>\n",
       "      <td>50450.741612</td>\n",
       "      <td>98.16</td>\n",
       "    </tr>\n",
       "    <tr>\n",
       "      <th>645</th>\n",
       "      <td>Bermuda</td>\n",
       "      <td>2014</td>\n",
       "      <td>77361.104881</td>\n",
       "      <td>96.80</td>\n",
       "    </tr>\n",
       "    <tr>\n",
       "      <th>4880</th>\n",
       "      <td>Norway</td>\n",
       "      <td>2014</td>\n",
       "      <td>62390.130313</td>\n",
       "      <td>96.30</td>\n",
       "    </tr>\n",
       "    <tr>\n",
       "      <th>1561</th>\n",
       "      <td>Denmark</td>\n",
       "      <td>2014</td>\n",
       "      <td>52048.335493</td>\n",
       "      <td>95.99</td>\n",
       "    </tr>\n",
       "    <tr>\n",
       "      <th>7179</th>\n",
       "      <td>Andorra</td>\n",
       "      <td>2014</td>\n",
       "      <td>NaN</td>\n",
       "      <td>95.90</td>\n",
       "    </tr>\n",
       "    <tr>\n",
       "      <th>...</th>\n",
       "      <td>...</td>\n",
       "      <td>...</td>\n",
       "      <td>...</td>\n",
       "      <td>...</td>\n",
       "    </tr>\n",
       "    <tr>\n",
       "      <th>2494</th>\n",
       "      <td>Guinea</td>\n",
       "      <td>2014</td>\n",
       "      <td>2061.694838</td>\n",
       "      <td>1.72</td>\n",
       "    </tr>\n",
       "    <tr>\n",
       "      <th>5877</th>\n",
       "      <td>Somalia</td>\n",
       "      <td>2014</td>\n",
       "      <td>917.876549</td>\n",
       "      <td>1.63</td>\n",
       "    </tr>\n",
       "    <tr>\n",
       "      <th>920</th>\n",
       "      <td>Burundi</td>\n",
       "      <td>2014</td>\n",
       "      <td>886.235296</td>\n",
       "      <td>1.38</td>\n",
       "    </tr>\n",
       "    <tr>\n",
       "      <th>6536</th>\n",
       "      <td>Timor-Leste</td>\n",
       "      <td>2014</td>\n",
       "      <td>3266.731666</td>\n",
       "      <td>1.14</td>\n",
       "    </tr>\n",
       "    <tr>\n",
       "      <th>7452</th>\n",
       "      <td>Eritrea</td>\n",
       "      <td>2014</td>\n",
       "      <td>NaN</td>\n",
       "      <td>0.99</td>\n",
       "    </tr>\n",
       "  </tbody>\n",
       "</table>\n",
       "<p>201 rows × 4 columns</p>\n",
       "</div>"
      ],
      "text/plain": [
       "          Country  Year  GDP_Per_Capita  Internet_Users_Pct\n",
       "2803      Iceland  2014    50450.741612               98.16\n",
       "645       Bermuda  2014    77361.104881               96.80\n",
       "4880       Norway  2014    62390.130313               96.30\n",
       "1561      Denmark  2014    52048.335493               95.99\n",
       "7179      Andorra  2014             NaN               95.90\n",
       "...           ...   ...             ...                 ...\n",
       "2494       Guinea  2014     2061.694838                1.72\n",
       "5877      Somalia  2014      917.876549                1.63\n",
       "920       Burundi  2014      886.235296                1.38\n",
       "6536  Timor-Leste  2014     3266.731666                1.14\n",
       "7452      Eritrea  2014             NaN                0.99\n",
       "\n",
       "[201 rows x 4 columns]"
      ]
     },
     "execution_count": 78,
     "metadata": {},
     "output_type": "execute_result"
    }
   ],
   "source": [
    "top_3_iup_countries"
   ]
  },
  {
   "cell_type": "markdown",
   "id": "93f9f30d",
   "metadata": {},
   "source": [
    "22) Subset gdp_and_internet_use to just the year 2014. Save this as a new dataframe named gdp_and_internet_use_2014"
   ]
  },
  {
   "cell_type": "code",
   "execution_count": 87,
   "id": "d9deaaf4",
   "metadata": {},
   "outputs": [],
   "source": [
    "gdp_and_internet_use_2014 = gdp_and_internet_use[gdp_and_internet_use['Year'] == 2014]"
   ]
  },
  {
   "cell_type": "markdown",
   "id": "8f5df47b",
   "metadata": {},
   "source": [
    "23) Create a plot which compares Internet Users Percentage and GDP per Capita for the year 2014. What do you notice from this plot? If you see any unusual points, investigate them"
   ]
  },
  {
   "cell_type": "code",
   "execution_count": 90,
   "id": "4bbc7651",
   "metadata": {},
   "outputs": [
    {
     "data": {
      "image/png": "[encoded data removed]",
      "text/plain": [
       "<Figure size 1000x600 with 1 Axes>"
      ]
     },
     "metadata": {},
     "output_type": "display_data"
    }
   ],
   "source": [
    "plt.figure(figsize=(10, 6))\n",
    "sns.scatterplot(data=gdp_and_internet_use_2014, x='GDP_Per_Capita', y='Internet_Users_Pct')\n",
    "plt.title('Internet Users Percentage vs GDP per Capita (2014)')\n",
    "plt.xlabel('GDP per Capita')\n",
    "plt.ylabel('Internet Users Percentage')\n",
    "plt.show()"
   ]
  },
  {
   "cell_type": "markdown",
   "id": "5672b934",
   "metadata": {},
   "source": [
    "Looks like poorer countries can't afford to have affordable internet for nationwide access. Tech is king, so is cash. Richer the country, the higher the Internet User Percentage goes up, which in turn makes the rich get richer. Joy."
   ]
  },
  {
   "cell_type": "code",
   "execution_count": null,
   "id": "b7115c3b",
   "metadata": {},
   "outputs": [],
   "source": []
  }
 ],
 "metadata": {
  "kernelspec": {
   "display_name": "Python 3 (ipykernel)",
   "language": "python",
   "name": "python3"
  },
  "language_info": {
   "codemirror_mode": {
    "name": "ipython",
    "version": 3
   },
   "file_extension": ".py",
   "mimetype": "text/x-python",
   "name": "python",
   "nbconvert_exporter": "python",
   "pygments_lexer": "ipython3",
   "version": "3.10.9"
  }
 },
 "nbformat": 4,
 "nbformat_minor": 5
}
